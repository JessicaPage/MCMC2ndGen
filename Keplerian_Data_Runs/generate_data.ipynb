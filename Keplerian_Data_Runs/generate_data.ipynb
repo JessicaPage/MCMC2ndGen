{
 "cells": [
  {
   "cell_type": "code",
   "execution_count": 2,
   "id": "ee01bf99",
   "metadata": {},
   "outputs": [],
   "source": [
    "import numpy as np\n",
    "import matplotlib.pyplot as plt\n",
    "from lisainstrument import Instrument\n",
    "from lisaorbits import KeplerianOrbits\n",
    "import h5py   \n",
    "\n"
   ]
  },
  {
   "cell_type": "code",
   "execution_count": 3,
   "id": "42ecf8cd",
   "metadata": {},
   "outputs": [],
   "source": [
    "#size = int(1.0/8*86400*4) # samples\n",
    "#size = 32768*4 # samples\n",
    "\n",
    "#size=86400*4*4 #4 days\n",
    "size=86400*2 #1 day\n",
    "\n",
    "#size=1e4\n",
    "skipped = int(1e4) # samples\n",
    "data_dir = '/Users/jessica/Desktop/Project_2/Tdi_2.0/Production/orbit_and_data_files/'\n",
    "#orbit_file_dir ='/Users/jessica/Desktop/Project_2/TDI_2.0/Production/orbits-v2.1/lisaorbits/data/esa-trailing/'\n",
    "my_orbit = KeplerianOrbits(dt=1.0/2, size=size+skipped)\n",
    "my_orbit.write(data_dir+'my-orbit_Keplerian_day_fs=2_Hz.h5','w')\n",
    "#my_esa_orbits = OEMOrbits(orbit_file_dir+'trajectory_out_mida-20deg_cw_sg-2nmss.oem1',orbit_file_dir+'trajectory_out_mida-20deg_cw_sg-2nmss.oem2',orbit_file_dir+'trajectory_out_mida-20deg_cw_sg-2nmss.oem3', size=size+skipped,dt=1.0/4.0, t0='oem')\n",
    "#my_esa_orbits.write('my-orbit_ESA_4_days.h5','w')\n",
    "#i=Instrument(size=86400*4, dt=1/4, t0='orbits', tau0='orbits',physics_upsampling=1, lock='six',aafilter=None,orbits='my_Keplerian_orbit.h5', orbit_dataset='tps/ppr',gws=None, interpolation=('lagrange', 31),glitches=None,clock_asds=None)\n",
    "#i=Instrument(size=86400*4, dt=1/4,t0='orbits',lock='six',aafilter=('kaiser', 240, 1.1, 2.9),physics_upsampling=4, orbits='static', orbit_dataset='tps/ppr',gws=None, interpolation=('lagrange', 31),glitches=None,clock_asds=None)\n",
    "#i=Instrument(size=2592000, dt=1/4,t0='orbits',lock='six',aafilter=('kaiser', 240, 1.1, 2.9),physics_upsampling=4, orbits='static', orbit_dataset='tps/ppr',gws=None, interpolation=('lagrange', 31),glitches=None,clock_asds=None)\n",
    "#i=Instrument(size=86400*4, dt=1/4, t0='orbits', physics_upsampling=1, lock='six',aafilter=None,orbits='my_Keplerian_orbit.h5', orbit_dataset='tcb/ltt',gws=None, interpolation=('lagrange', 31),glitches=None,clock_asds=None)\n",
    "#i=Instrument(size=86400*4, dt=1/4, t0='orbits', physics_upsampling=1, lock='six',aafilter=None,orbits='equalarmlength-orbits.h5', orbit_dataset='tps/ppr',gws=None, interpolation=('lagrange', 31),glitches=None,clock_asds=None)\n",
    "#i=Instrument(size=86400*4, dt=1/4, t0='orbits', physics_upsampling=1, lock='six',aafilter=None,orbits='my_EqualArmlength_orbit.h5', orbit_dataset='tcb/ltt',gws=None, interpolation=('lagrange', 31),glitches=None,clock_asds=None)\n",
    "#i=Instrument(size=86400*4, dt=1/4, t0='orbits', physics_upsampling=1, lock='six',aafilter=None,orbits='keplerian-orbits.h5', orbit_dataset='tps/ppr',gws=None, interpolation=('lagrange', 31),glitches=None)\n",
    "#i=Instrument(size=size+skipped, dt=1/4, t0='orbits', physics_upsampling=1,telemetry_downsampling=1, lock='six',aafilter=None,orbits='my-orbit_Keplerian.h5', orbit_dataset='tcb/ltt',gws=None, interpolation=('lagrange', 31),glitches=None,clock_asds=None)\n",
    "#i=Instrument(size=86400*4, dt=1/4, t0='orbits', physics_upsampling=4, lock='six',aafilter=('kaiser', 240, 1.1, 2.9),orbits='equalarmlength-orbits.h5', orbit_dataset='tps/ppr',gws=None, interpolation=('lagrange', 31),glitches=None,clock_asds=None)\n",
    "#i=Instrument(size=size+skipped, dt=1/4, t0='orbits', physics_upsampling=1, lock='six',aafilter=None,orbits='keplerian-orbits.h5', orbit_dataset='tps/ppr',gws=None, interpolation=('lagrange', 31),glitches=None,clock_asds=None)\n",
    "#i=Instrument(size=size+skipped, lock='six',orbits='esa-orbits.h5')\n",
    "#i=Instrument(size=size+skipped, dt=1/4, t0='orbits', physics_upsampling=1, lock='six',aafilter=None,orbits='static', orbit_dataset='tps/ppr',gws=None, interpolation=('lagrange', 31),glitches=None,clock_asds=None)\n",
    "#i=Instrument(size=size+skipped, dt=1/4, t0='orbits', physics_upsampling=1, lock='six',aafilter=None,orbits='static', orbit_dataset='tps_ppr',gws=None, interpolation=('lagrange', 31),glitches=None,clock_asds=None)\n",
    "#i=Instrument(size=size+skipped, dt=1/4, t0='orbits', physics_upsampling=1, lock='six',aafilter=None,orbits='equalarmlength-orbits.h5', orbit_dataset='tps/ppr',gws=None, interpolation=('lagrange', 31),glitches=None,clock_asds=None)\n",
    "#i=Instrument(size=size+skipped, dt=1/4, t0='orbits', physics_upsampling=1, lock='six',aafilter=None,orbits='keplerian-orbits.h5', orbit_dataset='tcb/ltt',gws=None, interpolation=('lagrange', 31),glitches=None,clock_asds=None)\n",
    "#i=Instrument(size=size+skipped, dt=1/4, t0='orbits', physics_upsampling=1, lock='six',aafilter=None,orbits='keplerian-orbits.h5', orbit_dataset='tps/ppr',gws=None, interpolation=('lagrange', 31),glitches=None,clock_asds=None)\n",
    "#i=Instrument(size=size+skipped, dt=1/4, t0='orbits', physics_upsampling=1, lock='six',aafilter=None,orbits='equalarmlength-orbits.h5', orbit_dataset='tps/ppr',gws=None, interpolation=('lagrange', 31),glitches=None,clock_asds=None)\n",
    "#i=Instrument(size=size+skipped, dt=1/4, t0='orbits', physics_upsampling=1, lock='six',aafilter=None,orbits='esa-orbits.h5', orbit_dataset='tps/ppr',gws=None, interpolation=('lagrange', 31),glitches=None,clock_asds=None)\n",
    "i=Instrument(size=size+skipped, dt=1.0/2, t0='orbits', physics_upsampling=1, lock='six',aafilter=None,orbits=data_dir+'my-orbit_Keplerian_day_fs=2_Hz.h5', orbit_dataset='tcb/ltt',gws=None, interpolation=('lagrange', 31),glitches=None,clock_asds=None)\n",
    "\n",
    "    \n",
    "    \n",
    "#size=345600,dt=0.25,t0='orbits',orbits='static', orbit_dataset='tps/ppr',clock_asds=None,aafilter=None,physics_upsampling=1)\n",
    "#i=Instrument(size=345600,dt=0.25,orbits='static', neglect_tps=False,clock_asds=None,aafilter=None,physics_upsampling=1)\n",
    "\n",
    "i.disable_all_noises(but='laser')\n",
    "\n",
    "#i.disable_dopplers()\n",
    "#i.disable_clock_noises()\n",
    "#i.disable_pathlength_noises\n",
    "#i.disable_ranging_noises()\n",
    "#i.disable_jitters()\n",
    "i.simulate()\n",
    "\n",
    "\n",
    "\n",
    "#i.disable_dopplers()\n",
    "#i.disable_clock_noises()\n",
    "#i.disable_pathlength_noises\n",
    "#i.disable_ranging_noises()\n",
    "#i.disable_jitters()\n"
   ]
  },
  {
   "cell_type": "code",
   "execution_count": 4,
   "id": "af72f0b7",
   "metadata": {},
   "outputs": [
    {
     "name": "stdout",
     "output_type": "stream",
     "text": [
      "mosas order\n",
      "['12', '23', '31', '13', '32', '21']\n"
     ]
    }
   ],
   "source": [
    "#i.plot_mprs(output=None,skip=skipped)\n",
    "\n",
    "mosas_order = i.MOSAS\n",
    "print('mosas order')\n",
    "print(mosas_order)\n"
   ]
  },
  {
   "cell_type": "code",
   "execution_count": 5,
   "id": "55af5569",
   "metadata": {},
   "outputs": [],
   "source": [
    "#science_measurements = np.array([i.isc_carrier_fluctuations[mosa]/i.central_freq for mosa in mosas_order])\n",
    "#science_measurements = np.array([np.abs(i.isc_carrier_offsets[mosa])/i.central_freq+np.sign(i.isc_carrier_offsets[mosa])*i.isc_carrier_fluctuations[mosa]/i.central_freq for mosa in mosas_order])\n",
    "#science_measurements = np.array([np.sign(i.isc_carrier_offsets[mosa])*i.isc_carrier_fluctuations[mosa]/i.central_freq for mosa in mosas_order])\n",
    "#science_measurements = np.array([i.isc_carrier_fluctuations[mosa]/i.central_freq for mosa in mosas_order])\n",
    "science_measurements = np.array([i.isi_carrier_fluctuations[mosa] for mosa in mosas_order])\n",
    "\n",
    "#science_measurements = np.array([(i.isc_carriers[mosa]-i.central_freq)/i.central_freq for mosa in mosas_order])\n",
    "\n",
    "#science_measurements = np.array([i.isc_carrier_fluctuations[mosa]/i.central_freq*np.sign(i.isc_carrier_offsets[mosa]) for mosa in mosas_order])\n",
    "#science_measurements = np.array([i.tps_isc_carrier_fluctuations[mosa]/i.central_freq*np.sign(i.tps_isc_carrier_offsets[mosa]) for mosa in mosas_order])\n",
    "#science_measurements = np.array([i.tps_isc_carrier_fluctuations[mosa]/i.central_freq for mosa in mosas_order])\n",
    "\n",
    "#TM_measurements = [i.tm_carrier_fluctuations[mosa]/i.central_freq for mosa in mosas_order]\n",
    "#TM_measurements = np.array([np.abs(i.tm_carrier_fluctuations[mosa])/i.central_freq + np.sign(i.tm_carrier_fluctuations[mosa])*i.tm_carrier_offsets[mosa]/i.central_freq for mosa in mosas_order])\n",
    "#TM_measurements = np.array([np.sign(i.tm_carrier_offsets[mosa])*i.tm_carrier_fluctuations[mosa]/i.central_freq for mosa in mosas_order])\n",
    "#TM_measurements = np.array([i.tm_carrier_fluctuations[mosa]/i.central_freq for mosa in mosas_order])\n",
    "TM_measurements = np.array([i.tmi_carrier_fluctuations[mosa] for mosa in mosas_order])\n",
    "\n",
    "#TM_measurements = [i.tps_tm_carrier_fluctuations[mosa]/i.central_freq*np.sign(i.tps_tm_carrier_offsets[mosa]) for mosa in mosas_order]\n",
    "#TM_measurements = [i.tps_tm_carrier_fluctuations[mosa]/i.central_freq for mosa in mosas_order]\n",
    "#TM_measurements = np.array([(i.tm_carriers[mosa]-i.central_freq)/i.central_freq for mosa in mosas_order])\n",
    "\n",
    "#ref_measurements = [i.ref_carrier_fluctuations[mosa]/i.central_freq for mosa in mosas_order]\n",
    "#ref_measurements = np.array([np.abs(i.ref_carrier_fluctuations[mosa])/i.central_freq+ np.sign(i.ref_carrier_fluctuations[mosa])*i.ref_carrier_offsets[mosa]/i.central_freq for mosa in mosas_order])\n",
    "#ref_measurements = np.array([np.sign(i.ref_carrier_fluctuations[mosa])*i.ref_carrier_offsets[mosa]/i.central_freq for mosa in mosas_order])\n",
    "#ref_measurements = np.array([i.ref_carrier_fluctuations[mosa]/i.central_freq for mosa in mosas_order])\n",
    "ref_measurements = np.array([i.rfi_carrier_fluctuations[mosa] for mosa in mosas_order])\n",
    "\n",
    "#ref_measurements = [i.tps_ref_carrier_fluctuations[mosa]/i.central_freq*np.sign(i.tps_ref_carrier_offsets[mosa]) for mosa in mosas_order]\n",
    "#ref_measurements = [i.tps_ref_carrier_fluctuations[mosa]/i.central_freq for mosa in mosas_order]\n",
    "#ref_measurements = np.array([np.sign(i.ref_carrier_offsets[mosa])*i.ref_carrier_fluctuations[mosa]/i.central_freq for mosa in mosas_order])\n",
    "\n",
    "#ref_measurements = np.array([(i.ref_carriers[mosa]-i.central_freq)/i.central_freq for mosa in mosas_order])\n"
   ]
  },
  {
   "cell_type": "code",
   "execution_count": 6,
   "id": "526c68e2",
   "metadata": {},
   "outputs": [
    {
     "name": "stdout",
     "output_type": "stream",
     "text": [
      "[ -1217.55465276  -1280.5159929   -1213.62980507 ... -20060.25130425\n",
      " -20000.06058834 -20012.36325055]\n"
     ]
    }
   ],
   "source": [
    "print(science_measurements[0][skipped::])\n",
    "#np.array([y[skip:, i] * thetas[i] for i in range(y.shape[1])]).T"
   ]
  },
  {
   "cell_type": "code",
   "execution_count": 7,
   "id": "31939a3f",
   "metadata": {},
   "outputs": [
    {
     "name": "stdout",
     "output_type": "stream",
     "text": [
      "[[-4.44394870e+01 -1.61491398e+00 -4.50589400e+01 ... -4.40854313e+04\n",
      "  -4.40257905e+04 -4.41347833e+04]\n",
      " [ 2.40651799e+01 -5.93268038e+01  1.23701792e+01 ...  1.33145352e+04\n",
      "   1.33530412e+04  1.32822713e+04]\n",
      " [ 2.04452640e+01 -8.81605781e+00 -3.13927980e+01 ... -1.09928743e+04\n",
      "  -1.09108351e+04 -1.09683588e+04]\n",
      " [ 4.44394870e+01  1.61491398e+00  4.50589400e+01 ...  4.40854313e+04\n",
      "   4.40257905e+04  4.41347833e+04]\n",
      " [-2.04452640e+01  8.81605781e+00  3.13927980e+01 ...  1.09928743e+04\n",
      "   1.09108351e+04  1.09683588e+04]\n",
      " [-2.40651799e+01  5.93268038e+01 -1.23701792e+01 ... -1.33145352e+04\n",
      "  -1.33530412e+04 -1.32822713e+04]]\n"
     ]
    }
   ],
   "source": [
    "print(ref_measurements)"
   ]
  },
  {
   "cell_type": "code",
   "execution_count": 8,
   "id": "fdaa95e3",
   "metadata": {},
   "outputs": [
    {
     "name": "stdout",
     "output_type": "stream",
     "text": [
      "[[-4.44394870e+01 -1.61491398e+00 -4.50589400e+01 ... -4.40854313e+04\n",
      "  -4.40257905e+04 -4.41347833e+04]\n",
      " [ 2.40651799e+01 -5.93268038e+01  1.23701792e+01 ...  1.33145352e+04\n",
      "   1.33530412e+04  1.32822713e+04]\n",
      " [ 2.04452640e+01 -8.81605781e+00 -3.13927980e+01 ... -1.09928743e+04\n",
      "  -1.09108351e+04 -1.09683588e+04]\n",
      " [ 4.44394870e+01  1.61491398e+00  4.50589400e+01 ...  4.40854313e+04\n",
      "   4.40257905e+04  4.41347833e+04]\n",
      " [-2.04452640e+01  8.81605781e+00  3.13927980e+01 ...  1.09928743e+04\n",
      "   1.09108351e+04  1.09683588e+04]\n",
      " [-2.40651799e+01  5.93268038e+01 -1.23701792e+01 ... -1.33145352e+04\n",
      "  -1.33530412e+04 -1.32822713e+04]]\n"
     ]
    }
   ],
   "source": [
    "print(TM_measurements)"
   ]
  },
  {
   "cell_type": "code",
   "execution_count": 9,
   "id": "a0071e76",
   "metadata": {},
   "outputs": [
    {
     "data": {
      "image/png": "[encoded data removed]",
      "text/plain": [
       "<Figure size 432x288 with 1 Axes>"
      ]
     },
     "metadata": {
      "needs_background": "light"
     },
     "output_type": "display_data"
    }
   ],
   "source": [
    "plt.semilogy(abs(science_measurements[2]))\n",
    "plt.show()"
   ]
  },
  {
   "cell_type": "code",
   "execution_count": 10,
   "id": "1ad2af39",
   "metadata": {},
   "outputs": [
    {
     "data": {
      "image/png": "[encoded data removed]",
      "text/plain": [
       "<Figure size 432x288 with 1 Axes>"
      ]
     },
     "metadata": {
      "needs_background": "light"
     },
     "output_type": "display_data"
    },
    {
     "data": {
      "image/png": "[encoded data removed]",
      "text/plain": [
       "<Figure size 432x288 with 1 Axes>"
      ]
     },
     "metadata": {
      "needs_background": "light"
     },
     "output_type": "display_data"
    }
   ],
   "source": [
    "plt.semilogy(np.abs(science_measurements[0]))\n",
    "plt.show()\n",
    "\n",
    "plt.plot(np.fft.rfftfreq(len(science_measurements[0][skipped::]),1.0/2),np.abs(np.fft.rfft(science_measurements[0][skipped::],norm='ortho')))\n",
    "plt.show()"
   ]
  },
  {
   "cell_type": "code",
   "execution_count": 10,
   "id": "1de45754",
   "metadata": {},
   "outputs": [
    {
     "name": "stdout",
     "output_type": "stream",
     "text": [
      "[[0.00000000e+00 7.45075474e-09 1.49015095e-08 ... 1.36197512e-03\n",
      "  1.36198258e-03 1.36199003e-03]\n",
      " [0.00000000e+00 7.37911435e-09 1.47582287e-08 ... 1.34894801e-03\n",
      "  1.34895539e-03 1.34896277e-03]\n",
      " [0.00000000e+00 7.37911435e-09 1.47582287e-08 ... 1.34881241e-03\n",
      "  1.34881979e-03 1.34882716e-03]]\n",
      "sc times\n",
      "[[0.00000000e+00 7.45075474e-09 1.49015095e-08 ... 1.36197512e-03\n",
      "  1.36198258e-03 1.36199003e-03]\n",
      " [0.00000000e+00 7.37911435e-09 1.47582287e-08 ... 1.34894801e-03\n",
      "  1.34895539e-03 1.34896277e-03]\n",
      " [0.00000000e+00 7.37911435e-09 1.47582287e-08 ... 1.34881241e-03\n",
      "  1.34881979e-03 1.34882716e-03]]\n"
     ]
    }
   ],
   "source": [
    "#d_pprs = np.array([i.d_pprs[mosa][::4] for mosa in mosas_order])\n",
    "d_pprs = np.array([i.d_pprs[mosa] for mosa in mosas_order])\n",
    "\n",
    "mprs=np.array([i.mprs[mosa] for mosa in mosas_order])\n",
    "\n",
    "#filename='my-orbit_ESA_hour.h5'\n",
    "#filename='my-orbit_ESA_4_days.h5'\n",
    "filename=data_dir+'my-orbit_Keplerian_day_fs=2_Hz.h5'\n",
    "\n",
    "\n",
    "f = h5py.File(filename, 'r')\n",
    "print(np.array(f['tps']['delta_t'][:]).T)\n",
    "\n",
    "#s_c_times = f.attrs[]\n",
    "#s_c_times = np.array([i.])\n",
    "#s_c_times = np.array([my_orbit.spacecraft_tcb[1],my_orbit.spacecraft_tcb[2],my_orbit.spacecraft_tcb[3]])\n",
    "#s_c_times = np.array([f.attrs['spacecraft_tcb'][1],f.attrs['spacecraft_tcb'][2],f.attrs['spacecraft_tcb'][3]])\n",
    "s_c_times = np.array(f['tps']['delta_t'][:]).T\n",
    "print('sc times')\n",
    "print(s_c_times)"
   ]
  },
  {
   "cell_type": "code",
   "execution_count": 11,
   "id": "16559c2d",
   "metadata": {},
   "outputs": [
    {
     "name": "stdout",
     "output_type": "stream",
     "text": [
      "all_plus_time\n",
      "[[-2.49729077e+01  3.45362068e+00  1.08257248e+01 ... -1.55586468e+04\n",
      "  -1.55317208e+04 -1.55185836e+04]\n",
      " [-1.21969142e+01  4.43039388e+01 -1.00598316e+01 ...  7.49662094e+03\n",
      "   7.35085406e+03  7.37391168e+03]\n",
      " [ 5.37734430e+01  3.38388673e+00  1.50769147e+01 ...  1.15225782e+04\n",
      "   1.15485448e+04  1.16672153e+04]\n",
      " ...\n",
      " [-5.02485754e-15 -4.41976399e-15 -3.81470684e-15 ...  1.10576621e-10\n",
      "   1.10577226e-10  1.10577830e-10]\n",
      " [ 3.19766169e-09  3.19766173e-09  3.19766176e-09 ...  3.20308625e-09\n",
      "   3.20308627e-09  3.20308630e-09]\n",
      " [ 2.01970440e+09  2.01970440e+09  2.01970440e+09 ...  2.01979580e+09\n",
      "   2.01979580e+09  2.01979580e+09]]\n",
      "31\n"
     ]
    }
   ],
   "source": [
    "first_concat = np.concatenate((science_measurements,ref_measurements))\n",
    "all_measurements = np.concatenate((first_concat,TM_measurements))\n",
    "all_plus_mprs = np.concatenate((all_measurements,mprs))\n",
    "all_plus_dpprs = np.concatenate((all_plus_mprs,d_pprs))\n",
    "all_plus_time = np.concatenate((all_plus_dpprs,np.array([i.t])))\n",
    "all_plus_times = np.concatenate((all_plus_time,s_c_times))\n",
    "#all_plus_d_pprs = np.concatenate((all_measurements,d_pprs))\n",
    "print('all_plus_time')\n",
    "print(all_plus_time)\n",
    "print(len(all_plus_time))\n"
   ]
  },
  {
   "cell_type": "code",
   "execution_count": 12,
   "id": "7a417f62",
   "metadata": {},
   "outputs": [],
   "source": [
    "np.savetxt(data_dir+'LISA_Instrument_RR_disable_all_but_laser_lock_six_Keplerian_orbits_tps_ppr_orbits_mprs_and_dpprs_to_file_1_days_2_Hz_NO_AA_filter_NEW.dat',all_plus_times.T,header = 's12 s23 s31 s13 s32 s21 tau12 tau23 tau31 tau13 tau32 tau21 eps12 eps23 eps31 eps13 eps32 eps21 mprs_12 mprs_23 mprs_31 mprs_13 mprs_32 mprs_21 d_pprs_12 d_pprs_23 d_pprs_31 d_pprs_13 d_pprs_32 d_pprs_21 time time_one time_two time_three')\n",
    "\n"
   ]
  },
  {
   "cell_type": "code",
   "execution_count": 18,
   "id": "2ba43555",
   "metadata": {},
   "outputs": [
    {
     "ename": "ValueError",
     "evalue": "Unable to create dataset (name already exists)",
     "output_type": "error",
     "traceback": [
      "\u001b[0;31m---------------------------------------------------------------------------\u001b[0m",
      "\u001b[0;31mValueError\u001b[0m                                Traceback (most recent call last)",
      "\u001b[0;32m<ipython-input-18-78a6a80d6a8b>\u001b[0m in \u001b[0;36m<module>\u001b[0;34m\u001b[0m\n\u001b[1;32m      1\u001b[0m \u001b[0;31m#i.write('measurements_disable_all_but_laser_lock_six_keplerian_tcb_ltt_pyTDI_size.h5','w')\u001b[0m\u001b[0;34m\u001b[0m\u001b[0;34m\u001b[0m\u001b[0;34m\u001b[0m\u001b[0m\n\u001b[1;32m      2\u001b[0m \u001b[0;31m#i.write('./../LISA_Symposium_Codes/measurements_disable_all_but_laser_lock_six_static_orbits_tps_ppr_pyTDI_size.h5','w')\u001b[0m\u001b[0;34m\u001b[0m\u001b[0;34m\u001b[0m\u001b[0;34m\u001b[0m\u001b[0m\n\u001b[0;32m----> 3\u001b[0;31m \u001b[0mi\u001b[0m\u001b[0;34m.\u001b[0m\u001b[0mwrite\u001b[0m\u001b[0;34m(\u001b[0m\u001b[0;34m'measurements_disable_all_but_laser_lock_six_keplerian_tcb_ltt.h5'\u001b[0m\u001b[0;34m,\u001b[0m\u001b[0;34m'w'\u001b[0m\u001b[0;34m,\u001b[0m\u001b[0mkeep_all\u001b[0m\u001b[0;34m=\u001b[0m\u001b[0;32mTrue\u001b[0m\u001b[0;34m)\u001b[0m\u001b[0;34m\u001b[0m\u001b[0;34m\u001b[0m\u001b[0m\n\u001b[0m",
      "\u001b[0;32m/usr/local/lib/python3.9/site-packages/lisainstrument/instrument.py\u001b[0m in \u001b[0;36mwrite\u001b[0;34m(self, output, mode, keep_all)\u001b[0m\n\u001b[1;32m   1492\u001b[0m \u001b[0;34m\u001b[0m\u001b[0m\n\u001b[1;32m   1493\u001b[0m                 \u001b[0mlogger\u001b[0m\u001b[0;34m.\u001b[0m\u001b[0mdebug\u001b[0m\u001b[0;34m(\u001b[0m\u001b[0;34m\"Writing TDIR assistance tone to %s\"\u001b[0m\u001b[0;34m,\u001b[0m \u001b[0moutput\u001b[0m\u001b[0;34m)\u001b[0m\u001b[0;34m\u001b[0m\u001b[0;34m\u001b[0m\u001b[0m\n\u001b[0;32m-> 1494\u001b[0;31m                 \u001b[0mself\u001b[0m\u001b[0;34m.\u001b[0m\u001b[0mtdir_tones\u001b[0m\u001b[0;34m.\u001b[0m\u001b[0mwrite\u001b[0m\u001b[0;34m(\u001b[0m\u001b[0mhdf5\u001b[0m\u001b[0;34m,\u001b[0m \u001b[0;34m'tdir_tones'\u001b[0m\u001b[0;34m)\u001b[0m\u001b[0;34m\u001b[0m\u001b[0;34m\u001b[0m\u001b[0m\n\u001b[0m\u001b[1;32m   1495\u001b[0m \u001b[0;34m\u001b[0m\u001b[0m\n\u001b[1;32m   1496\u001b[0m                 \u001b[0mlogger\u001b[0m\u001b[0;34m.\u001b[0m\u001b[0mdebug\u001b[0m\u001b[0;34m(\u001b[0m\u001b[0;34m\"Writing laser noise to '%s'\"\u001b[0m\u001b[0;34m,\u001b[0m \u001b[0moutput\u001b[0m\u001b[0;34m)\u001b[0m\u001b[0;34m\u001b[0m\u001b[0;34m\u001b[0m\u001b[0m\n",
      "\u001b[0;32m/usr/local/lib/python3.9/site-packages/lisainstrument/containers.py\u001b[0m in \u001b[0;36mwrite\u001b[0;34m(self, hdf5, dataset)\u001b[0m\n\u001b[1;32m     76\u001b[0m         \u001b[0;31m# Write dataset\u001b[0m\u001b[0;34m\u001b[0m\u001b[0;34m\u001b[0m\u001b[0;34m\u001b[0m\u001b[0m\n\u001b[1;32m     77\u001b[0m         \u001b[0mdtype\u001b[0m \u001b[0;34m=\u001b[0m \u001b[0mnumpy\u001b[0m\u001b[0;34m.\u001b[0m\u001b[0mdtype\u001b[0m\u001b[0;34m(\u001b[0m\u001b[0;34m{\u001b[0m\u001b[0;34m'names'\u001b[0m\u001b[0;34m:\u001b[0m \u001b[0mself\u001b[0m\u001b[0;34m.\u001b[0m\u001b[0mindices\u001b[0m\u001b[0;34m(\u001b[0m\u001b[0;34m)\u001b[0m\u001b[0;34m,\u001b[0m \u001b[0;34m'formats'\u001b[0m\u001b[0;34m:\u001b[0m \u001b[0mlen\u001b[0m\u001b[0;34m(\u001b[0m\u001b[0mself\u001b[0m\u001b[0;34m.\u001b[0m\u001b[0mindices\u001b[0m\u001b[0;34m(\u001b[0m\u001b[0;34m)\u001b[0m\u001b[0;34m)\u001b[0m \u001b[0;34m*\u001b[0m \u001b[0;34m[\u001b[0m\u001b[0mnumpy\u001b[0m\u001b[0;34m.\u001b[0m\u001b[0mfloat64\u001b[0m\u001b[0;34m]\u001b[0m\u001b[0;34m}\u001b[0m\u001b[0;34m)\u001b[0m\u001b[0;34m\u001b[0m\u001b[0;34m\u001b[0m\u001b[0m\n\u001b[0;32m---> 78\u001b[0;31m         \u001b[0mhdf5\u001b[0m\u001b[0;34m.\u001b[0m\u001b[0mcreate_dataset\u001b[0m\u001b[0;34m(\u001b[0m\u001b[0mdataset\u001b[0m\u001b[0;34m,\u001b[0m \u001b[0;34m(\u001b[0m\u001b[0msize\u001b[0m\u001b[0;34m,\u001b[0m\u001b[0;34m)\u001b[0m\u001b[0;34m,\u001b[0m \u001b[0mdtype\u001b[0m\u001b[0;34m=\u001b[0m\u001b[0mdtype\u001b[0m\u001b[0;34m)\u001b[0m\u001b[0;34m\u001b[0m\u001b[0;34m\u001b[0m\u001b[0m\n\u001b[0m\u001b[1;32m     79\u001b[0m         \u001b[0;32mfor\u001b[0m \u001b[0mindex\u001b[0m \u001b[0;32min\u001b[0m \u001b[0mself\u001b[0m\u001b[0;34m.\u001b[0m\u001b[0mindices\u001b[0m\u001b[0;34m(\u001b[0m\u001b[0;34m)\u001b[0m\u001b[0;34m:\u001b[0m\u001b[0;34m\u001b[0m\u001b[0;34m\u001b[0m\u001b[0m\n\u001b[1;32m     80\u001b[0m             \u001b[0mhdf5\u001b[0m\u001b[0;34m[\u001b[0m\u001b[0mdataset\u001b[0m\u001b[0;34m]\u001b[0m\u001b[0;34m[\u001b[0m\u001b[0mindex\u001b[0m\u001b[0;34m]\u001b[0m \u001b[0;34m=\u001b[0m \u001b[0mself\u001b[0m\u001b[0;34m[\u001b[0m\u001b[0mindex\u001b[0m\u001b[0;34m]\u001b[0m\u001b[0;34m\u001b[0m\u001b[0;34m\u001b[0m\u001b[0m\n",
      "\u001b[0;32m/usr/local/lib/python3.9/site-packages/h5py/_hl/group.py\u001b[0m in \u001b[0;36mcreate_dataset\u001b[0;34m(self, name, shape, dtype, data, **kwds)\u001b[0m\n\u001b[1;32m    146\u001b[0m                     \u001b[0mgroup\u001b[0m \u001b[0;34m=\u001b[0m \u001b[0mself\u001b[0m\u001b[0;34m.\u001b[0m\u001b[0mrequire_group\u001b[0m\u001b[0;34m(\u001b[0m\u001b[0mparent_path\u001b[0m\u001b[0;34m)\u001b[0m\u001b[0;34m\u001b[0m\u001b[0;34m\u001b[0m\u001b[0m\n\u001b[1;32m    147\u001b[0m \u001b[0;34m\u001b[0m\u001b[0m\n\u001b[0;32m--> 148\u001b[0;31m             \u001b[0mdsid\u001b[0m \u001b[0;34m=\u001b[0m \u001b[0mdataset\u001b[0m\u001b[0;34m.\u001b[0m\u001b[0mmake_new_dset\u001b[0m\u001b[0;34m(\u001b[0m\u001b[0mgroup\u001b[0m\u001b[0;34m,\u001b[0m \u001b[0mshape\u001b[0m\u001b[0;34m,\u001b[0m \u001b[0mdtype\u001b[0m\u001b[0;34m,\u001b[0m \u001b[0mdata\u001b[0m\u001b[0;34m,\u001b[0m \u001b[0mname\u001b[0m\u001b[0;34m,\u001b[0m \u001b[0;34m**\u001b[0m\u001b[0mkwds\u001b[0m\u001b[0;34m)\u001b[0m\u001b[0;34m\u001b[0m\u001b[0;34m\u001b[0m\u001b[0m\n\u001b[0m\u001b[1;32m    149\u001b[0m             \u001b[0mdset\u001b[0m \u001b[0;34m=\u001b[0m \u001b[0mdataset\u001b[0m\u001b[0;34m.\u001b[0m\u001b[0mDataset\u001b[0m\u001b[0;34m(\u001b[0m\u001b[0mdsid\u001b[0m\u001b[0;34m)\u001b[0m\u001b[0;34m\u001b[0m\u001b[0;34m\u001b[0m\u001b[0m\n\u001b[1;32m    150\u001b[0m             \u001b[0;32mreturn\u001b[0m \u001b[0mdset\u001b[0m\u001b[0;34m\u001b[0m\u001b[0;34m\u001b[0m\u001b[0m\n",
      "\u001b[0;32m/usr/local/lib/python3.9/site-packages/h5py/_hl/dataset.py\u001b[0m in \u001b[0;36mmake_new_dset\u001b[0;34m(parent, shape, dtype, data, name, chunks, compression, shuffle, fletcher32, maxshape, compression_opts, fillvalue, scaleoffset, track_times, external, track_order, dcpl, allow_unknown_filter)\u001b[0m\n\u001b[1;32m    135\u001b[0m \u001b[0;34m\u001b[0m\u001b[0m\n\u001b[1;32m    136\u001b[0m \u001b[0;34m\u001b[0m\u001b[0m\n\u001b[0;32m--> 137\u001b[0;31m     \u001b[0mdset_id\u001b[0m \u001b[0;34m=\u001b[0m \u001b[0mh5d\u001b[0m\u001b[0;34m.\u001b[0m\u001b[0mcreate\u001b[0m\u001b[0;34m(\u001b[0m\u001b[0mparent\u001b[0m\u001b[0;34m.\u001b[0m\u001b[0mid\u001b[0m\u001b[0;34m,\u001b[0m \u001b[0mname\u001b[0m\u001b[0;34m,\u001b[0m \u001b[0mtid\u001b[0m\u001b[0;34m,\u001b[0m \u001b[0msid\u001b[0m\u001b[0;34m,\u001b[0m \u001b[0mdcpl\u001b[0m\u001b[0;34m=\u001b[0m\u001b[0mdcpl\u001b[0m\u001b[0;34m)\u001b[0m\u001b[0;34m\u001b[0m\u001b[0;34m\u001b[0m\u001b[0m\n\u001b[0m\u001b[1;32m    138\u001b[0m \u001b[0;34m\u001b[0m\u001b[0m\n\u001b[1;32m    139\u001b[0m     \u001b[0;32mif\u001b[0m \u001b[0;34m(\u001b[0m\u001b[0mdata\u001b[0m \u001b[0;32mis\u001b[0m \u001b[0;32mnot\u001b[0m \u001b[0;32mNone\u001b[0m\u001b[0;34m)\u001b[0m \u001b[0;32mand\u001b[0m \u001b[0;34m(\u001b[0m\u001b[0;32mnot\u001b[0m \u001b[0misinstance\u001b[0m\u001b[0;34m(\u001b[0m\u001b[0mdata\u001b[0m\u001b[0;34m,\u001b[0m \u001b[0mEmpty\u001b[0m\u001b[0;34m)\u001b[0m\u001b[0;34m)\u001b[0m\u001b[0;34m:\u001b[0m\u001b[0;34m\u001b[0m\u001b[0;34m\u001b[0m\u001b[0m\n",
      "\u001b[0;32mh5py/_objects.pyx\u001b[0m in \u001b[0;36mh5py._objects.with_phil.wrapper\u001b[0;34m()\u001b[0m\n",
      "\u001b[0;32mh5py/_objects.pyx\u001b[0m in \u001b[0;36mh5py._objects.with_phil.wrapper\u001b[0;34m()\u001b[0m\n",
      "\u001b[0;32mh5py/h5d.pyx\u001b[0m in \u001b[0;36mh5py.h5d.create\u001b[0;34m()\u001b[0m\n",
      "\u001b[0;31mValueError\u001b[0m: Unable to create dataset (name already exists)"
     ]
    }
   ],
   "source": [
    "i.write('/Users/jessica/Desktop/Project_2/Tdi_2.0/Production/orbit_and_data_files/measurements_disable_all_but_laser_lock_six_keplerian_tcb_ltt.h5','w',keep_all=True)\n"
   ]
  },
  {
   "cell_type": "code",
   "execution_count": 41,
   "id": "735406fe",
   "metadata": {},
   "outputs": [
    {
     "name": "stdout",
     "output_type": "stream",
     "text": [
      "2019704400.0\n"
     ]
    }
   ],
   "source": [
    "print(i.t0)"
   ]
  },
  {
   "cell_type": "code",
   "execution_count": 16,
   "id": "bc25500e",
   "metadata": {},
   "outputs": [
    {
     "name": "stdout",
     "output_type": "stream",
     "text": [
      "<KeysViewHDF5 ['check_input', 'dt', 'duration', 'ext', 'filename_1', 'filename_2', 'filename_3', 'fs', 'generator', 'git_url', 'ignore_shapiro', 'interp_order', 'size', 't0', 'tt_method', 'tt_niter', 'tt_order', 'version']>\n"
     ]
    }
   ],
   "source": [
    "#filename='my-orbit_ESA_hour.h5'\n",
    "filename='my-orbit_ESA_4_days.h5'\n",
    "\n",
    "f = h5py.File(filename, 'r')\n",
    "print(f.attrs.keys())"
   ]
  },
  {
   "cell_type": "code",
   "execution_count": null,
   "id": "74169fe2",
   "metadata": {},
   "outputs": [],
   "source": [
    "print(i.tdir_tones)"
   ]
  },
  {
   "cell_type": "code",
   "execution_count": 17,
   "id": "31ba879a",
   "metadata": {},
   "outputs": [
    {
     "name": "stdout",
     "output_type": "stream",
     "text": [
      "my-orbit_ESA_4_days.h5\n"
     ]
    }
   ],
   "source": [
    "print(i.orbit_file)"
   ]
  },
  {
   "cell_type": "code",
   "execution_count": 16,
   "id": "2534e7ff",
   "metadata": {},
   "outputs": [
    {
     "name": "stdout",
     "output_type": "stream",
     "text": [
      "{'12': array([8.33242307, 8.33242307, 8.33242307, ..., 8.33243226, 8.33243226,\n",
      "       8.33243226]), '23': array([8.30282208, 8.30282208, 8.30282208, ..., 8.30282208, 8.30282208,\n",
      "       8.30282208]), '31': array([8.3324231 , 8.3324231 , 8.3324231 , ..., 8.33241391, 8.33241391,\n",
      "       8.33241391]), '13': array([8.33159416, 8.33159416, 8.33159416, ..., 8.33158577, 8.33158577,\n",
      "       8.33158577]), '32': array([8.30446798, 8.30446798, 8.30446798, ..., 8.30446798, 8.30446798,\n",
      "       8.30446798]), '21': array([8.33159414, 8.33159414, 8.33159414, ..., 8.33160254, 8.33160254,\n",
      "       8.33160254])}\n"
     ]
    }
   ],
   "source": [
    "print(i.tps_mprs)"
   ]
  },
  {
   "cell_type": "code",
   "execution_count": 11,
   "id": "7080c213",
   "metadata": {},
   "outputs": [
    {
     "name": "stdout",
     "output_type": "stream",
     "text": [
      "{'1': array([-0.00092293, -0.00159183,  0.00569556, ..., -0.00596578,\n",
      "       -0.00717222, -0.00507168]), '2': array([ 0.00180061, -0.00168866, -0.00535608, ...,  0.00492291,\n",
      "        0.00182004,  0.00044918]), '3': array([-0.00072488,  0.00187901,  0.00010088, ..., -0.00504928,\n",
      "        0.00055197,  0.00240672])}\n"
     ]
    }
   ],
   "source": [
    "print(i.tcb_timer_deviations)"
   ]
  },
  {
   "cell_type": "code",
   "execution_count": 12,
   "id": "a3870449",
   "metadata": {},
   "outputs": [
    {
     "name": "stdout",
     "output_type": "stream",
     "text": [
      "{'1': array([-0.00092293, -0.00159183,  0.00569556, ..., -0.00596578,\n",
      "       -0.00717222, -0.00507168]), '2': array([ 0.00180061, -0.00168866, -0.00535608, ...,  0.00492291,\n",
      "        0.00182004,  0.00044918]), '3': array([-0.00072488,  0.00187901,  0.00010088, ..., -0.00504928,\n",
      "        0.00055197,  0.00240672])}\n"
     ]
    }
   ],
   "source": [
    "print(i.tcb_timer_deviations)"
   ]
  },
  {
   "cell_type": "code",
   "execution_count": null,
   "id": "12f7fdc9",
   "metadata": {},
   "outputs": [],
   "source": [
    "print(i.physics_dt)"
   ]
  },
  {
   "cell_type": "code",
   "execution_count": null,
   "id": "b059d6be",
   "metadata": {},
   "outputs": [],
   "source": [
    "print(i.physics_size)"
   ]
  },
  {
   "cell_type": "code",
   "execution_count": null,
   "id": "5564c97e",
   "metadata": {},
   "outputs": [],
   "source": [
    "print(i.fs)"
   ]
  },
  {
   "cell_type": "code",
   "execution_count": null,
   "id": "334579d7",
   "metadata": {},
   "outputs": [],
   "source": [
    "print(i.interpolate)"
   ]
  },
  {
   "cell_type": "code",
   "execution_count": null,
   "id": "4315e496",
   "metadata": {},
   "outputs": [],
   "source": [
    "print(i.interpolation_order)"
   ]
  },
  {
   "cell_type": "code",
   "execution_count": null,
   "id": "6da05056",
   "metadata": {},
   "outputs": [],
   "source": [
    "print(i.lock_config)"
   ]
  },
  {
   "cell_type": "code",
   "execution_count": null,
   "id": "faac92e6",
   "metadata": {},
   "outputs": [],
   "source": [
    "print(i.filtered_mprs)"
   ]
  },
  {
   "cell_type": "code",
   "execution_count": 13,
   "id": "572cb830",
   "metadata": {},
   "outputs": [
    {
     "name": "stdout",
     "output_type": "stream",
     "text": [
      "{'12': array([8.33242307, 8.33242307, 8.33242307, ..., 8.33243226, 8.33243226,\n",
      "       8.33243226]), '23': array([8.30282208, 8.30282208, 8.30282208, ..., 8.30282208, 8.30282208,\n",
      "       8.30282208]), '31': array([8.3324231 , 8.3324231 , 8.3324231 , ..., 8.33241391, 8.33241391,\n",
      "       8.33241391]), '13': array([8.33159416, 8.33159416, 8.33159416, ..., 8.33158577, 8.33158577,\n",
      "       8.33158577]), '32': array([8.30446798, 8.30446798, 8.30446798, ..., 8.30446798, 8.30446798,\n",
      "       8.30446798]), '21': array([8.33159414, 8.33159414, 8.33159414, ..., 8.33160254, 8.33160254,\n",
      "       8.33160254])}\n"
     ]
    }
   ],
   "source": [
    "print(i.pprs)"
   ]
  },
  {
   "cell_type": "code",
   "execution_count": null,
   "id": "7476f900",
   "metadata": {},
   "outputs": [],
   "source": [
    "print(i.downsampled)"
   ]
  },
  {
   "cell_type": "code",
   "execution_count": null,
   "id": "b137837d",
   "metadata": {},
   "outputs": [],
   "source": [
    "print(i.filtered_isc_carrier_fluctuations)"
   ]
  },
  {
   "cell_type": "code",
   "execution_count": null,
   "id": "056f0d61",
   "metadata": {},
   "outputs": [],
   "source": [
    "print(i.local_timer_deviations)"
   ]
  },
  {
   "cell_type": "code",
   "execution_count": 46,
   "id": "49a71fd5",
   "metadata": {},
   "outputs": [
    {
     "name": "stdout",
     "output_type": "stream",
     "text": [
      "[2.01970440e+09 2.01970440e+09 2.01970440e+09 ... 2.01970715e+09\n",
      " 2.01970715e+09 2.01970715e+09]\n"
     ]
    }
   ],
   "source": [
    "print(i.physics_t)"
   ]
  },
  {
   "cell_type": "code",
   "execution_count": 14,
   "id": "3bae487d",
   "metadata": {},
   "outputs": [
    {
     "name": "stdout",
     "output_type": "stream",
     "text": [
      "{'12': array([8.33242307, 8.33242307, 8.33242307, ..., 8.33243226, 8.33243226,\n",
      "       8.33243226]), '23': array([8.30282208, 8.30282208, 8.30282208, ..., 8.30282208, 8.30282208,\n",
      "       8.30282208]), '31': array([8.3324231 , 8.3324231 , 8.3324231 , ..., 8.33241391, 8.33241391,\n",
      "       8.33241391]), '13': array([8.33159416, 8.33159416, 8.33159416, ..., 8.33158577, 8.33158577,\n",
      "       8.33158577]), '32': array([8.30446798, 8.30446798, 8.30446798, ..., 8.30446798, 8.30446798,\n",
      "       8.30446798]), '21': array([8.33159414, 8.33159414, 8.33159414, ..., 8.33160254, 8.33160254,\n",
      "       8.33160254])}\n"
     ]
    }
   ],
   "source": [
    "print(i.mprs)"
   ]
  },
  {
   "cell_type": "code",
   "execution_count": null,
   "id": "c1d3e66d",
   "metadata": {},
   "outputs": [],
   "source": [
    "print(i.d_pprs)"
   ]
  },
  {
   "cell_type": "code",
   "execution_count": 31,
   "id": "c0094cd5",
   "metadata": {},
   "outputs": [
    {
     "name": "stdout",
     "output_type": "stream",
     "text": [
      "2019704400.0\n"
     ]
    }
   ],
   "source": [
    "print(i.t0)"
   ]
  },
  {
   "cell_type": "code",
   "execution_count": 29,
   "id": "280f38ee",
   "metadata": {},
   "outputs": [
    {
     "name": "stdout",
     "output_type": "stream",
     "text": [
      "8.332423070636423\n"
     ]
    }
   ],
   "source": [
    "print(i.tps_mprs['12'][0])"
   ]
  },
  {
   "cell_type": "code",
   "execution_count": null,
   "id": "a5d99a21",
   "metadata": {},
   "outputs": [],
   "source": [
    "print(i.lock)"
   ]
  },
  {
   "cell_type": "code",
   "execution_count": null,
   "id": "6a590968",
   "metadata": {},
   "outputs": [],
   "source": [
    "i.lock?"
   ]
  },
  {
   "cell_type": "code",
   "execution_count": null,
   "id": "546df540",
   "metadata": {},
   "outputs": [],
   "source": [
    "print(i.isc_carriers)"
   ]
  },
  {
   "cell_type": "code",
   "execution_count": null,
   "id": "42826f64",
   "metadata": {},
   "outputs": [],
   "source": [
    "print(i.isc_carrier_offsets)"
   ]
  },
  {
   "cell_type": "code",
   "execution_count": null,
   "id": "b767787e",
   "metadata": {},
   "outputs": [],
   "source": [
    "print(i.isc_carrier_fluctuations)"
   ]
  },
  {
   "cell_type": "code",
   "execution_count": null,
   "id": "5212e8e0",
   "metadata": {},
   "outputs": [],
   "source": [
    "print(i.central_freq)"
   ]
  },
  {
   "cell_type": "code",
   "execution_count": null,
   "id": "f2a791a5",
   "metadata": {},
   "outputs": [],
   "source": [
    "print((i.isc_carrier_fluctuations-i.central_freq)/i.central_freq)"
   ]
  },
  {
   "cell_type": "code",
   "execution_count": null,
   "id": "52ae1b8e",
   "metadata": {},
   "outputs": [],
   "source": [
    "i.isc_carrier_fluctuations?"
   ]
  },
  {
   "cell_type": "code",
   "execution_count": null,
   "id": "bd6d9b4b",
   "metadata": {},
   "outputs": [],
   "source": [
    "print([i.isc_carrier_offsets[mosa] for mosa in mosas_order])"
   ]
  },
  {
   "cell_type": "code",
   "execution_count": null,
   "id": "e8856e98",
   "metadata": {},
   "outputs": [],
   "source": [
    "print(i.central_freq)"
   ]
  },
  {
   "cell_type": "code",
   "execution_count": 16,
   "id": "64ead4ad",
   "metadata": {},
   "outputs": [
    {
     "name": "stdout",
     "output_type": "stream",
     "text": [
      "8.332423070636423\n"
     ]
    }
   ],
   "source": [
    "print(i.mprs['12'][0])"
   ]
  },
  {
   "cell_type": "code",
   "execution_count": 17,
   "id": "91ad4ef2",
   "metadata": {},
   "outputs": [
    {
     "name": "stdout",
     "output_type": "stream",
     "text": [
      "8.332423070636423\n"
     ]
    }
   ],
   "source": [
    "print(i.pprs['12'][0])"
   ]
  },
  {
   "cell_type": "code",
   "execution_count": 16,
   "id": "680ffcbb",
   "metadata": {},
   "outputs": [
    {
     "name": "stdout",
     "output_type": "stream",
     "text": [
      "{'12': array([3.34092199e-09, 3.34092201e-09, 3.34092202e-09, ...,\n",
      "       3.34105587e-09, 3.34105588e-09, 3.34105589e-09]), '23': array([-5.15861953e-15, -4.84796670e-15, -4.53731387e-15, ...,\n",
      "        3.41108993e-12,  3.41140059e-12,  3.41171124e-12]), '31': array([-3.34092241e-09, -3.34092240e-09, -3.34092239e-09, ...,\n",
      "       -3.34078758e-09, -3.34078757e-09, -3.34078756e-09]), '13': array([-3.05438161e-09, -3.05438159e-09, -3.05438156e-09, ...,\n",
      "       -3.05415756e-09, -3.05415754e-09, -3.05415752e-09]), '32': array([-4.89003660e-15, -4.59561538e-15, -4.30119415e-15, ...,\n",
      "        3.23285947e-12,  3.23315389e-12,  3.23344832e-12]), '21': array([3.05438092e-09, 3.05438094e-09, 3.05438096e-09, ...,\n",
      "       3.05460409e-09, 3.05460411e-09, 3.05460413e-09])}\n"
     ]
    }
   ],
   "source": [
    "print(i.d_pprs)"
   ]
  },
  {
   "cell_type": "code",
   "execution_count": 17,
   "id": "a0dba77e",
   "metadata": {},
   "outputs": [
    {
     "name": "stdout",
     "output_type": "stream",
     "text": [
      "{'1': array([0., 0., 0., ..., 0., 0., 0.]), '2': array([0., 0., 0., ..., 0., 0., 0.]), '3': array([0., 0., 0., ..., 0., 0., 0.])}\n"
     ]
    }
   ],
   "source": [
    "print(i.inverse_timer_deviations)"
   ]
  },
  {
   "cell_type": "code",
   "execution_count": 17,
   "id": "d8023d33",
   "metadata": {},
   "outputs": [
    {
     "name": "stdout",
     "output_type": "stream",
     "text": [
      "{'12': array([8.33242307, 8.33242307, 8.33242307, ..., 8.33243226, 8.33243226,\n",
      "       8.33243226]), '23': array([8.30282208, 8.30282208, 8.30282208, ..., 8.30282208, 8.30282208,\n",
      "       8.30282208]), '31': array([8.3324231 , 8.3324231 , 8.3324231 , ..., 8.33241391, 8.33241391,\n",
      "       8.33241391]), '13': array([8.33159416, 8.33159416, 8.33159416, ..., 8.33158577, 8.33158577,\n",
      "       8.33158577]), '32': array([8.30446798, 8.30446798, 8.30446798, ..., 8.30446798, 8.30446798,\n",
      "       8.30446798]), '21': array([8.33159414, 8.33159414, 8.33159414, ..., 8.33160254, 8.33160254,\n",
      "       8.33160254])}\n"
     ]
    }
   ],
   "source": [
    "print(i.tps_mprs)"
   ]
  },
  {
   "cell_type": "code",
   "execution_count": 18,
   "id": "4093e5dc",
   "metadata": {},
   "outputs": [
    {
     "name": "stdout",
     "output_type": "stream",
     "text": [
      "{'12': array([8.33242307, 8.33242307, 8.33242307, ..., 8.33243226, 8.33243226,\n",
      "       8.33243226]), '23': array([8.30282208, 8.30282208, 8.30282208, ..., 8.30282208, 8.30282208,\n",
      "       8.30282208]), '31': array([8.3324231 , 8.3324231 , 8.3324231 , ..., 8.33241391, 8.33241391,\n",
      "       8.33241391]), '13': array([8.33159416, 8.33159416, 8.33159416, ..., 8.33158577, 8.33158577,\n",
      "       8.33158577]), '32': array([8.30446798, 8.30446798, 8.30446798, ..., 8.30446798, 8.30446798,\n",
      "       8.30446798]), '21': array([8.33159414, 8.33159414, 8.33159414, ..., 8.33160254, 8.33160254,\n",
      "       8.33160254])}\n"
     ]
    }
   ],
   "source": [
    "print(i.pprs)"
   ]
  },
  {
   "cell_type": "code",
   "execution_count": 19,
   "id": "8f0bc3ea",
   "metadata": {},
   "outputs": [
    {
     "name": "stdout",
     "output_type": "stream",
     "text": [
      "8.332423070636423\n"
     ]
    }
   ],
   "source": [
    "print(i.pprs['12'][0])"
   ]
  },
  {
   "cell_type": "code",
   "execution_count": 20,
   "id": "1e564e64",
   "metadata": {},
   "outputs": [
    {
     "name": "stdout",
     "output_type": "stream",
     "text": [
      "8.332423070636423\n"
     ]
    }
   ],
   "source": [
    "print(i.mprs['12'][0])"
   ]
  },
  {
   "cell_type": "code",
   "execution_count": 23,
   "id": "564c7492",
   "metadata": {},
   "outputs": [
    {
     "name": "stdout",
     "output_type": "stream",
     "text": [
      "{'1': 0, '2': 0, '3': 0}\n"
     ]
    }
   ],
   "source": [
    "print(i.clock_freqlindrifts)"
   ]
  },
  {
   "cell_type": "code",
   "execution_count": 24,
   "id": "5a6dd169",
   "metadata": {},
   "outputs": [
    {
     "name": "stdout",
     "output_type": "stream",
     "text": [
      "{'1': 0, '2': 0, '3': 0}\n"
     ]
    }
   ],
   "source": [
    "print(i.clock_noise_fluctuations)"
   ]
  },
  {
   "cell_type": "code",
   "execution_count": 25,
   "id": "c3ab3204",
   "metadata": {},
   "outputs": [
    {
     "name": "stdout",
     "output_type": "stream",
     "text": [
      "{'1': 0, '2': 0, '3': 0}\n"
     ]
    }
   ],
   "source": [
    "print(i.clock_noise_offsets)"
   ]
  },
  {
   "cell_type": "code",
   "execution_count": 25,
   "id": "260d0804",
   "metadata": {},
   "outputs": [
    {
     "name": "stdout",
     "output_type": "stream",
     "text": [
      "{'12': array([8.33242295, 8.33242295, 8.33242295, ..., 8.33243174, 8.33243174,\n",
      "       8.33243174]), '23': array([8.30282196, 8.30282196, 8.30282196, ..., 8.30282196, 8.30282196,\n",
      "       8.30282196]), '31': array([8.33242298, 8.33242297, 8.33242297, ..., 8.33241418, 8.33241418,\n",
      "       8.33241418]), '13': array([8.33159404, 8.33159404, 8.33159404, ..., 8.33158525, 8.33158525,\n",
      "       8.33158525]), '32': array([8.30446786, 8.30446786, 8.30446786, ..., 8.30446786, 8.30446786,\n",
      "       8.30446786]), '21': array([8.33159402, 8.33159402, 8.33159402, ..., 8.33160281, 8.33160281,\n",
      "       8.33160281])}\n"
     ]
    }
   ],
   "source": [
    "print(i.the_mprs)"
   ]
  },
  {
   "cell_type": "code",
   "execution_count": 24,
   "id": "583bb1e3",
   "metadata": {},
   "outputs": [
    {
     "name": "stdout",
     "output_type": "stream",
     "text": [
      "{'12': array([8.33242295, 8.33242295, 8.33242295, ..., 8.33243174, 8.33243174,\n",
      "       8.33243174]), '23': array([8.30282196, 8.30282196, 8.30282196, ..., 8.30282196, 8.30282196,\n",
      "       8.30282196]), '31': array([8.33242298, 8.33242297, 8.33242297, ..., 8.33241418, 8.33241418,\n",
      "       8.33241418]), '13': array([8.33159404, 8.33159404, 8.33159404, ..., 8.33158525, 8.33158525,\n",
      "       8.33158525]), '32': array([8.30446786, 8.30446786, 8.30446786, ..., 8.30446786, 8.30446786,\n",
      "       8.30446786]), '21': array([8.33159402, 8.33159402, 8.33159402, ..., 8.33160281, 8.33160281,\n",
      "       8.33160281])}\n"
     ]
    }
   ],
   "source": [
    "print(i.pprs)"
   ]
  },
  {
   "cell_type": "code",
   "execution_count": 5,
   "id": "3c856bb1",
   "metadata": {},
   "outputs": [
    {
     "name": "stdout",
     "output_type": "stream",
     "text": [
      "{'1': 0, '2': 0, '3': 0}\n"
     ]
    }
   ],
   "source": [
    "print(i.clock_offsets)"
   ]
  },
  {
   "cell_type": "code",
   "execution_count": 23,
   "id": "1b37afa1",
   "metadata": {},
   "outputs": [
    {
     "name": "stdout",
     "output_type": "stream",
     "text": [
      "tps/ppr\n"
     ]
    }
   ],
   "source": [
    "print(i.orbit_dataset)"
   ]
  },
  {
   "cell_type": "code",
   "execution_count": 47,
   "id": "f49952bf",
   "metadata": {},
   "outputs": [
    {
     "name": "stdout",
     "output_type": "stream",
     "text": [
      "my-orbit_Keplerian.h5\n"
     ]
    }
   ],
   "source": [
    "print(i.orbit_file)"
   ]
  },
  {
   "cell_type": "code",
   "execution_count": 22,
   "id": "34d845d6",
   "metadata": {},
   "outputs": [
    {
     "name": "stdout",
     "output_type": "stream",
     "text": [
      "2019704400.0\n"
     ]
    }
   ],
   "source": [
    "print(i.t0)"
   ]
  },
  {
   "cell_type": "code",
   "execution_count": 21,
   "id": "30c62ac3",
   "metadata": {},
   "outputs": [
    {
     "name": "stdout",
     "output_type": "stream",
     "text": [
      "[2.01970440e+09 2.01970440e+09 2.01970440e+09 ... 2.01970715e+09\n",
      " 2.01970715e+09 2.01970715e+09]\n"
     ]
    }
   ],
   "source": [
    "print(i.t)"
   ]
  },
  {
   "cell_type": "code",
   "execution_count": 14,
   "id": "aa7fa0b9",
   "metadata": {},
   "outputs": [
    {
     "name": "stdout",
     "output_type": "stream",
     "text": [
      "[0.00000e+00 2.50000e-01 5.00000e-01 ... 2.74925e+03 2.74950e+03\n",
      " 2.74975e+03]\n"
     ]
    }
   ],
   "source": [
    "print(i.t)"
   ]
  },
  {
   "cell_type": "code",
   "execution_count": 38,
   "id": "32e149bd",
   "metadata": {},
   "outputs": [
    {
     "name": "stdout",
     "output_type": "stream",
     "text": [
      "{'12': 0, '23': 0, '31': 0, '13': 0, '32': 0, '21': 0}\n"
     ]
    }
   ],
   "source": [
    "print(i.ranging_asds)"
   ]
  },
  {
   "cell_type": "code",
   "execution_count": 34,
   "id": "56f6f08d",
   "metadata": {},
   "outputs": [
    {
     "name": "stdout",
     "output_type": "stream",
     "text": [
      "8.332423070636423\n"
     ]
    }
   ],
   "source": [
    "print(i.mprs_unambiguous['12'][0])"
   ]
  },
  {
   "cell_type": "code",
   "execution_count": 20,
   "id": "3cf1ae9f",
   "metadata": {},
   "outputs": [
    {
     "name": "stdout",
     "output_type": "stream",
     "text": [
      "0.0\n"
     ]
    }
   ],
   "source": [
    "print(i.local_timer_deviations['1'][5])"
   ]
  },
  {
   "cell_type": "code",
   "execution_count": 50,
   "id": "de747f48",
   "metadata": {},
   "outputs": [
    {
     "name": "stdout",
     "output_type": "stream",
     "text": [
      "None\n"
     ]
    }
   ],
   "source": [
    "print(i.prn_ambiguity)"
   ]
  },
  {
   "cell_type": "code",
   "execution_count": 41,
   "id": "3e2faac8",
   "metadata": {},
   "outputs": [
    {
     "name": "stdout",
     "output_type": "stream",
     "text": [
      "2019704400.0\n"
     ]
    }
   ],
   "source": [
    "print(i.t[0])"
   ]
  },
  {
   "cell_type": "code",
   "execution_count": 51,
   "id": "92679b1c",
   "metadata": {},
   "outputs": [
    {
     "name": "stdout",
     "output_type": "stream",
     "text": [
      "{'1': array([-0.00092293, -0.00159183,  0.00569556, ..., -0.00596578,\n",
      "       -0.00717222, -0.00507168]), '2': array([ 0.00180061, -0.00168866, -0.00535608, ...,  0.00492291,\n",
      "        0.00182004,  0.00044918]), '3': array([-0.00072488,  0.00187901,  0.00010088, ..., -0.00504928,\n",
      "        0.00055197,  0.00240672])}\n"
     ]
    }
   ],
   "source": [
    "print(i.tcb_timer_deviations)"
   ]
  },
  {
   "cell_type": "code",
   "execution_count": 52,
   "id": "6d7ec9d3",
   "metadata": {},
   "outputs": [
    {
     "name": "stdout",
     "output_type": "stream",
     "text": [
      "{'12': 0, '23': 0, '31': 0, '13': 0, '32': 0, '21': 0}\n"
     ]
    }
   ],
   "source": [
    "print(i.ranging_biases)"
   ]
  },
  {
   "cell_type": "code",
   "execution_count": 18,
   "id": "491a074a",
   "metadata": {},
   "outputs": [
    {
     "name": "stdout",
     "output_type": "stream",
     "text": [
      "{'12': array([8.33242295, 8.33242295, 8.33242295, ..., 8.33243174, 8.33243174,\n",
      "       8.33243174]), '23': array([8.30282196, 8.30282196, 8.30282196, ..., 8.30282196, 8.30282196,\n",
      "       8.30282196]), '31': array([8.33242298, 8.33242297, 8.33242297, ..., 8.33241418, 8.33241418,\n",
      "       8.33241418]), '13': array([8.33159404, 8.33159404, 8.33159404, ..., 8.33158525, 8.33158525,\n",
      "       8.33158525]), '32': array([8.30446786, 8.30446786, 8.30446786, ..., 8.30446786, 8.30446786,\n",
      "       8.30446786]), '21': array([8.33159402, 8.33159402, 8.33159402, ..., 8.33160281, 8.33160281,\n",
      "       8.33160281])}\n"
     ]
    }
   ],
   "source": [
    "print(i.tps_mprs)"
   ]
  },
  {
   "cell_type": "code",
   "execution_count": 19,
   "id": "0ff94dae",
   "metadata": {},
   "outputs": [
    {
     "name": "stdout",
     "output_type": "stream",
     "text": [
      "{'12': array([8.33242295, 8.33242295, 8.33242295, ..., 8.33243174, 8.33243174,\n",
      "       8.33243174]), '23': array([8.30282196, 8.30282196, 8.30282196, ..., 8.30282196, 8.30282196,\n",
      "       8.30282196]), '31': array([8.33242298, 8.33242297, 8.33242297, ..., 8.33241418, 8.33241418,\n",
      "       8.33241418]), '13': array([8.33159404, 8.33159404, 8.33159404, ..., 8.33158525, 8.33158525,\n",
      "       8.33158525]), '32': array([8.30446786, 8.30446786, 8.30446786, ..., 8.30446786, 8.30446786,\n",
      "       8.30446786]), '21': array([8.33159402, 8.33159402, 8.33159402, ..., 8.33160281, 8.33160281,\n",
      "       8.33160281])}\n"
     ]
    }
   ],
   "source": [
    "print(i.mprs)"
   ]
  },
  {
   "cell_type": "code",
   "execution_count": 26,
   "id": "6a4a39fe",
   "metadata": {},
   "outputs": [
    {
     "name": "stdout",
     "output_type": "stream",
     "text": [
      "{'12': array([8.33242295, 8.33242295, 8.33242295, ..., 8.33243174, 8.33243174,\n",
      "       8.33243174]), '23': array([8.30282196, 8.30282196, 8.30282196, ..., 8.30282196, 8.30282196,\n",
      "       8.30282196]), '31': array([8.33242298, 8.33242297, 8.33242297, ..., 8.33241418, 8.33241418,\n",
      "       8.33241418]), '13': array([8.33159404, 8.33159404, 8.33159404, ..., 8.33158525, 8.33158525,\n",
      "       8.33158525]), '32': array([8.30446786, 8.30446786, 8.30446786, ..., 8.30446786, 8.30446786,\n",
      "       8.30446786]), '21': array([8.33159402, 8.33159402, 8.33159402, ..., 8.33160281, 8.33160281,\n",
      "       8.33160281])}\n"
     ]
    }
   ],
   "source": [
    "print(i.pprs)"
   ]
  },
  {
   "cell_type": "code",
   "execution_count": 26,
   "id": "f105b3cb",
   "metadata": {},
   "outputs": [
    {
     "name": "stdout",
     "output_type": "stream",
     "text": [
      "0.25000000372537734\n"
     ]
    }
   ],
   "source": [
    "print(my_orbit.spacecraft_tcb[1][1])"
   ]
  },
  {
   "cell_type": "code",
   "execution_count": 23,
   "id": "91390bcf",
   "metadata": {},
   "outputs": [
    {
     "name": "stdout",
     "output_type": "stream",
     "text": [
      "[0.00000e+00 2.50000e-01 5.00000e-01 ... 2.74925e+03 2.74950e+03\n",
      " 2.74975e+03]\n"
     ]
    }
   ],
   "source": [
    "print(my_orbit.t)"
   ]
  },
  {
   "cell_type": "code",
   "execution_count": 27,
   "id": "85348c53",
   "metadata": {},
   "outputs": [
    {
     "name": "stdout",
     "output_type": "stream",
     "text": [
      "0.25000000368955716\n"
     ]
    }
   ],
   "source": [
    "print(my_orbit.spacecraft_tcb[2][1])"
   ]
  },
  {
   "cell_type": "code",
   "execution_count": 30,
   "id": "5c116c5d",
   "metadata": {},
   "outputs": [],
   "source": [
    "np.savetxt('tcb_sc_times.dat',np.array([my_orbit.spacecraft_tcb[1],my_orbit.spacecraft_tcb[2],my_orbit.spacecraft_tcb[3]]).T,header='one two three')"
   ]
  },
  {
   "cell_type": "code",
   "execution_count": 45,
   "id": "6442c0c4",
   "metadata": {},
   "outputs": [
    {
     "name": "stdout",
     "output_type": "stream",
     "text": [
      "[[0.00000000e+00 2.50000004e-01 5.00000007e-01 ... 8.66492513e+04\n",
      "  8.66495013e+04 8.66497513e+04]\n",
      " [0.00000000e+00 2.50000004e-01 5.00000007e-01 ... 8.66492513e+04\n",
      "  8.66495013e+04 8.66497513e+04]\n",
      " [0.00000000e+00 2.50000004e-01 5.00000007e-01 ... 8.66492513e+04\n",
      "  8.66495013e+04 8.66497513e+04]]\n"
     ]
    }
   ],
   "source": [
    "print(np.array([my_orbit.spacecraft_tcb[1],my_orbit.spacecraft_tcb[2],my_orbit.spacecraft_tcb[3]]))"
   ]
  },
  {
   "cell_type": "code",
   "execution_count": null,
   "id": "18a0a5a7",
   "metadata": {},
   "outputs": [],
   "source": []
  }
 ],
 "metadata": {
  "kernelspec": {
   "display_name": "Python 3",
   "language": "python",
   "name": "python3"
  },
  "language_info": {
   "codemirror_mode": {
    "name": "ipython",
    "version": 3
   },
   "file_extension": ".py",
   "mimetype": "text/x-python",
   "name": "python",
   "nbconvert_exporter": "python",
   "pygments_lexer": "ipython3",
   "version": "3.9.1"
  }
 },
 "nbformat": 4,
 "nbformat_minor": 5
}
